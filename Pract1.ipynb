{
 "cells": [
  {
   "cell_type": "code",
   "execution_count": 1,
   "id": "8fa87933-e273-4f88-8d47-07f0c9f96d65",
   "metadata": {},
   "outputs": [],
   "source": [
    "import pandas as pd \n",
    "import numpy as np \n",
    "import seaborn as sns \n",
    "from scipy import stats "
   ]
  },
  {
   "cell_type": "code",
   "execution_count": 2,
   "id": "518f23c3-9626-4e7a-a55a-27564ea034e9",
   "metadata": {
    "scrolled": true
   },
   "outputs": [
    {
     "data": {
      "text/plain": [
       "['anagrams',\n",
       " 'anscombe',\n",
       " 'attention',\n",
       " 'brain_networks',\n",
       " 'car_crashes',\n",
       " 'diamonds',\n",
       " 'dots',\n",
       " 'dowjones',\n",
       " 'exercise',\n",
       " 'flights',\n",
       " 'fmri',\n",
       " 'geyser',\n",
       " 'glue',\n",
       " 'healthexp',\n",
       " 'iris',\n",
       " 'mpg',\n",
       " 'penguins',\n",
       " 'planets',\n",
       " 'seaice',\n",
       " 'taxis',\n",
       " 'tips',\n",
       " 'titanic']"
      ]
     },
     "execution_count": 2,
     "metadata": {},
     "output_type": "execute_result"
    }
   ],
   "source": [
    "sns.get_dataset_names()"
   ]
  },
  {
   "cell_type": "code",
   "execution_count": null,
   "id": "77b4ac49-4093-4cec-a2b2-6cbfb6573db8",
   "metadata": {},
   "outputs": [],
   "source": [
    "# print(\"Basic Summary Statistics:\")\n",
    "# print(f\"Count: {data.count()}\")\n",
    "# print(f\"Mean: {data.mean()}\")\n",
    "# print(f\"Median: {data.median()}\")\n",
    "# print(f\"Mode: {data.mode().tolist()}\")\n",
    "# print(f\"Min: {data.min()}\")\n",
    "# print(f\"Max: {data.max()}\")\n",
    "# print (f\"Range: {data.max()-data.min()}\")\n",
    "# print (f\"Standard Deviation: {data.std()}\")\n",
    "# print(f\"Variance: {data.var()}\")\n",
    "# print(f\"25th Percentile (Q1): {data.quantile (0.25)}\")\n",
    "# print(f\"50th Percentile (Q2 Median): {data.quantile(0.50)}\")\n",
    "# print(f\"75th Percentile (Q3): {data.quantile(0.75)}\")\n",
    "# print(f\"IQR (Q3 Q1): {data.quantile (0.75)-data.quantile(0.25)}\")"
   ]
  },
  {
   "cell_type": "code",
   "execution_count": 7,
   "id": "977b50dc-6fc4-4d99-ac08-4fccfaa3986a",
   "metadata": {},
   "outputs": [],
   "source": [
    "data = sns.load_dataset('diamonds')"
   ]
  },
  {
   "cell_type": "code",
   "execution_count": 9,
   "id": "24451df5-447b-4654-ac0d-06f48c56d28f",
   "metadata": {},
   "outputs": [
    {
     "data": {
      "text/html": [
       "<div>\n",
       "<style scoped>\n",
       "    .dataframe tbody tr th:only-of-type {\n",
       "        vertical-align: middle;\n",
       "    }\n",
       "\n",
       "    .dataframe tbody tr th {\n",
       "        vertical-align: top;\n",
       "    }\n",
       "\n",
       "    .dataframe thead th {\n",
       "        text-align: right;\n",
       "    }\n",
       "</style>\n",
       "<table border=\"1\" class=\"dataframe\">\n",
       "  <thead>\n",
       "    <tr style=\"text-align: right;\">\n",
       "      <th></th>\n",
       "      <th>carat</th>\n",
       "      <th>cut</th>\n",
       "      <th>color</th>\n",
       "      <th>clarity</th>\n",
       "      <th>depth</th>\n",
       "      <th>table</th>\n",
       "      <th>price</th>\n",
       "      <th>x</th>\n",
       "      <th>y</th>\n",
       "      <th>z</th>\n",
       "    </tr>\n",
       "  </thead>\n",
       "  <tbody>\n",
       "    <tr>\n",
       "      <th>0</th>\n",
       "      <td>0.23</td>\n",
       "      <td>Ideal</td>\n",
       "      <td>E</td>\n",
       "      <td>SI2</td>\n",
       "      <td>61.5</td>\n",
       "      <td>55.0</td>\n",
       "      <td>326</td>\n",
       "      <td>3.95</td>\n",
       "      <td>3.98</td>\n",
       "      <td>2.43</td>\n",
       "    </tr>\n",
       "    <tr>\n",
       "      <th>1</th>\n",
       "      <td>0.21</td>\n",
       "      <td>Premium</td>\n",
       "      <td>E</td>\n",
       "      <td>SI1</td>\n",
       "      <td>59.8</td>\n",
       "      <td>61.0</td>\n",
       "      <td>326</td>\n",
       "      <td>3.89</td>\n",
       "      <td>3.84</td>\n",
       "      <td>2.31</td>\n",
       "    </tr>\n",
       "    <tr>\n",
       "      <th>2</th>\n",
       "      <td>0.23</td>\n",
       "      <td>Good</td>\n",
       "      <td>E</td>\n",
       "      <td>VS1</td>\n",
       "      <td>56.9</td>\n",
       "      <td>65.0</td>\n",
       "      <td>327</td>\n",
       "      <td>4.05</td>\n",
       "      <td>4.07</td>\n",
       "      <td>2.31</td>\n",
       "    </tr>\n",
       "    <tr>\n",
       "      <th>3</th>\n",
       "      <td>0.29</td>\n",
       "      <td>Premium</td>\n",
       "      <td>I</td>\n",
       "      <td>VS2</td>\n",
       "      <td>62.4</td>\n",
       "      <td>58.0</td>\n",
       "      <td>334</td>\n",
       "      <td>4.20</td>\n",
       "      <td>4.23</td>\n",
       "      <td>2.63</td>\n",
       "    </tr>\n",
       "    <tr>\n",
       "      <th>4</th>\n",
       "      <td>0.31</td>\n",
       "      <td>Good</td>\n",
       "      <td>J</td>\n",
       "      <td>SI2</td>\n",
       "      <td>63.3</td>\n",
       "      <td>58.0</td>\n",
       "      <td>335</td>\n",
       "      <td>4.34</td>\n",
       "      <td>4.35</td>\n",
       "      <td>2.75</td>\n",
       "    </tr>\n",
       "  </tbody>\n",
       "</table>\n",
       "</div>"
      ],
      "text/plain": [
       "   carat      cut color clarity  depth  table  price     x     y     z\n",
       "0   0.23    Ideal     E     SI2   61.5   55.0    326  3.95  3.98  2.43\n",
       "1   0.21  Premium     E     SI1   59.8   61.0    326  3.89  3.84  2.31\n",
       "2   0.23     Good     E     VS1   56.9   65.0    327  4.05  4.07  2.31\n",
       "3   0.29  Premium     I     VS2   62.4   58.0    334  4.20  4.23  2.63\n",
       "4   0.31     Good     J     SI2   63.3   58.0    335  4.34  4.35  2.75"
      ]
     },
     "execution_count": 9,
     "metadata": {},
     "output_type": "execute_result"
    }
   ],
   "source": [
    "data.head()"
   ]
  },
  {
   "cell_type": "code",
   "execution_count": 11,
   "id": "0371656f-ecb6-4055-b6c6-357bc58da18c",
   "metadata": {},
   "outputs": [
    {
     "name": "stdout",
     "output_type": "stream",
     "text": [
      "<class 'pandas.core.frame.DataFrame'>\n",
      "RangeIndex: 53940 entries, 0 to 53939\n",
      "Data columns (total 10 columns):\n",
      " #   Column   Non-Null Count  Dtype   \n",
      "---  ------   --------------  -----   \n",
      " 0   carat    53940 non-null  float64 \n",
      " 1   cut      53940 non-null  category\n",
      " 2   color    53940 non-null  category\n",
      " 3   clarity  53940 non-null  category\n",
      " 4   depth    53940 non-null  float64 \n",
      " 5   table    53940 non-null  float64 \n",
      " 6   price    53940 non-null  int64   \n",
      " 7   x        53940 non-null  float64 \n",
      " 8   y        53940 non-null  float64 \n",
      " 9   z        53940 non-null  float64 \n",
      "dtypes: category(3), float64(6), int64(1)\n",
      "memory usage: 3.0 MB\n"
     ]
    }
   ],
   "source": [
    "data.info()"
   ]
  },
  {
   "cell_type": "code",
   "execution_count": 13,
   "id": "f57be1d1-c2d4-42cc-9ba3-bc1ac56200bd",
   "metadata": {},
   "outputs": [
    {
     "name": "stdout",
     "output_type": "stream",
     "text": [
      "Basic Summary Statistics:\n",
      "Count: carat      53940\n",
      "cut        53940\n",
      "color      53940\n",
      "clarity    53940\n",
      "depth      53940\n",
      "table      53940\n",
      "price      53940\n",
      "x          53940\n",
      "y          53940\n",
      "z          53940\n",
      "dtype: int64\n"
     ]
    }
   ],
   "source": [
    "print(\"Basic Summary Statistics:\")\n",
    "print(f\"Count: {data.count()}\")"
   ]
  },
  {
   "cell_type": "code",
   "execution_count": 15,
   "id": "8b0115a4-4c8c-455e-ab69-ff2b5eefc15d",
   "metadata": {},
   "outputs": [
    {
     "name": "stdout",
     "output_type": "stream",
     "text": [
      "Mean: 3932.799721913237\n"
     ]
    }
   ],
   "source": [
    "print(f\"Mean: {data['price'].mean()}\")"
   ]
  },
  {
   "cell_type": "code",
   "execution_count": 17,
   "id": "ae6fdf9f-c630-46a8-a7a6-3936cc40d6cd",
   "metadata": {},
   "outputs": [
    {
     "name": "stdout",
     "output_type": "stream",
     "text": [
      "Median: 61.8\n"
     ]
    }
   ],
   "source": [
    "print(f\"Median: {data['depth'].median()}\")"
   ]
  },
  {
   "cell_type": "code",
   "execution_count": 19,
   "id": "79ed9e7b-5c1e-4e1f-8c22-c2cdd056657a",
   "metadata": {},
   "outputs": [
    {
     "name": "stdout",
     "output_type": "stream",
     "text": [
      "Mode: ['Ideal']\n"
     ]
    }
   ],
   "source": [
    "print(f\"Mode: {data['cut'].mode().tolist()}\")"
   ]
  },
  {
   "cell_type": "code",
   "execution_count": 21,
   "id": "9e917a04-0901-4814-afbc-bc194db553d4",
   "metadata": {},
   "outputs": [
    {
     "name": "stdout",
     "output_type": "stream",
     "text": [
      "Min: 0.2\n",
      "Max: 5.01\n"
     ]
    }
   ],
   "source": [
    "print(f\"Min: {data['carat'].min()}\")\n",
    "print(f\"Max: {data['carat'].max()}\")"
   ]
  },
  {
   "cell_type": "code",
   "execution_count": 23,
   "id": "3ddd43cd-037f-4904-83fe-22f28034ce7d",
   "metadata": {},
   "outputs": [
    {
     "name": "stdout",
     "output_type": "stream",
     "text": [
      "Range: 4.81\n"
     ]
    }
   ],
   "source": [
    "print (f\"Range: {data['carat'].max()-data['carat'].min()}\")"
   ]
  },
  {
   "cell_type": "code",
   "execution_count": 29,
   "id": "6ee6ce36-1c95-4a35-a21d-5ded4a5688f0",
   "metadata": {},
   "outputs": [
    {
     "name": "stdout",
     "output_type": "stream",
     "text": [
      "Standard Deviation: 1.4326213188337733\n"
     ]
    }
   ],
   "source": [
    "print (f\"Standard Deviation: {data['depth'].std()}\")"
   ]
  },
  {
   "cell_type": "code",
   "execution_count": null,
   "id": "de6e9827-a032-4483-b1c2-fec57935fa85",
   "metadata": {},
   "outputs": [
    {
     "name": "stdout",
     "output_type": "stream",
     "text": [
      "Variance: 0.22468665982273753\n"
     ]
    }
   ],
   "source": [
    "print(f\"Variance: {data['carat'].var()}\")"
   ]
  },
  {
   "cell_type": "code",
   "execution_count": 39,
   "id": "96f8bd87-a40a-4c3c-8d2c-9af15bad5fb0",
   "metadata": {},
   "outputs": [
    {
     "name": "stdout",
     "output_type": "stream",
     "text": [
      "25th Percentile (Q1): 950.0\n",
      "50th Percentile (Q2 Median): 2401.0\n",
      "75th Percentile (Q3): 5324.25\n",
      "IQR (Q3 Q1): 4374.25\n"
     ]
    }
   ],
   "source": [
    "print(f\"25th Percentile (Q1): {data['price'].quantile (0.25)}\")\n",
    "print(f\"50th Percentile (Q2 Median): {data['price'].quantile(0.50)}\")\n",
    "print(f\"75th Percentile (Q3): {data['price'].quantile(0.75)}\")\n",
    "print(f\"IQR (Q3 Q1): {data['price'].quantile (0.75)-data['price'].quantile(0.25)}\")"
   ]
  },
  {
   "cell_type": "code",
   "execution_count": 47,
   "id": "8e91c29c-def7-4a84-9a8e-f92ac5e00322",
   "metadata": {},
   "outputs": [
    {
     "name": "stdout",
     "output_type": "stream",
     "text": [
      "Total Price: 212135217\n"
     ]
    }
   ],
   "source": [
    "data['price'].count()\n",
    "print(\"Total Price:\", data['price'].sum())"
   ]
  },
  {
   "cell_type": "code",
   "execution_count": 53,
   "id": "2c9f6815-1df5-4e92-8f12-0edf6ae8933f",
   "metadata": {},
   "outputs": [
    {
     "name": "stdout",
     "output_type": "stream",
     "text": [
      "Average Fare : 3932.799721913237 $\n"
     ]
    }
   ],
   "source": [
    "print(\"Average Fare :\",data ['price'].mean(),\"$\")"
   ]
  },
  {
   "cell_type": "code",
   "execution_count": 55,
   "id": "d6addf60-4351-48e8-bc9d-6e1c0e5dcb2f",
   "metadata": {},
   "outputs": [
    {
     "name": "stderr",
     "output_type": "stream",
     "text": [
      "C:\\Users\\kunal\\AppData\\Local\\Temp\\ipykernel_8392\\4154076324.py:1: FutureWarning: The default of observed=False is deprecated and will be changed to True in a future version of pandas. Pass observed=False to retain current behavior or observed=True to adopt the future default and silence this warning.\n",
      "  cut_grp =data.groupby('cut')\n"
     ]
    },
    {
     "data": {
      "text/plain": [
       "<pandas.core.groupby.generic.DataFrameGroupBy object at 0x000002993BABAA20>"
      ]
     },
     "execution_count": 55,
     "metadata": {},
     "output_type": "execute_result"
    }
   ],
   "source": [
    "cut_grp =data.groupby('cut')\n",
    "cut_grp"
   ]
  },
  {
   "cell_type": "code",
   "execution_count": 57,
   "id": "86051d02-2c76-4323-96b8-d50104d2a54a",
   "metadata": {},
   "outputs": [
    {
     "data": {
      "text/plain": [
       "cut\n",
       "Ideal        74513487\n",
       "Premium      63221498\n",
       "Very Good    48107623\n",
       "Good         19275009\n",
       "Fair          7017600\n",
       "Name: price, dtype: int64"
      ]
     },
     "execution_count": 57,
     "metadata": {},
     "output_type": "execute_result"
    }
   ],
   "source": [
    "cut_grp['price'].sum()"
   ]
  },
  {
   "cell_type": "code",
   "execution_count": 51,
   "id": "25183be9-5464-4818-a75a-6a568afed204",
   "metadata": {},
   "outputs": [
    {
     "data": {
      "text/plain": [
       "color\n",
       "G    11292\n",
       "E     9797\n",
       "F     9542\n",
       "H     8304\n",
       "D     6775\n",
       "I     5422\n",
       "J     2808\n",
       "Name: count, dtype: int64"
      ]
     },
     "execution_count": 51,
     "metadata": {},
     "output_type": "execute_result"
    }
   ],
   "source": [
    "data.value_counts('color')"
   ]
  },
  {
   "cell_type": "code",
   "execution_count": 63,
   "id": "8234e6ac-3227-4033-884f-f7422b2465be",
   "metadata": {},
   "outputs": [
    {
     "name": "stdout",
     "output_type": "stream",
     "text": [
      "Total of Premium : 63221498\n"
     ]
    },
    {
     "name": "stderr",
     "output_type": "stream",
     "text": [
      "C:\\Users\\kunal\\AppData\\Local\\Temp\\ipykernel_8392\\64247046.py:1: FutureWarning: The default of observed=False is deprecated and will be changed to True in a future version of pandas. Pass observed=False to retain current behavior or observed=True to adopt the future default and silence this warning.\n",
      "  Premium_grp =data.groupby('cut').get_group('Premium')\n"
     ]
    }
   ],
   "source": [
    "Premium_grp =data.groupby('cut').get_group('Premium')\n",
    "print(\"Total of Premium :\", Premium_grp['price'].sum())"
   ]
  },
  {
   "cell_type": "code",
   "execution_count": 65,
   "id": "bc35dca3-9f8c-4a45-b15a-5912719f19be",
   "metadata": {},
   "outputs": [
    {
     "data": {
      "text/plain": [
       "['Ideal', 'Premium', 'Good', 'Very Good', 'Fair']\n",
       "Categories (5, object): ['Ideal', 'Premium', 'Very Good', 'Good', 'Fair']"
      ]
     },
     "execution_count": 65,
     "metadata": {},
     "output_type": "execute_result"
    }
   ],
   "source": [
    "data['cut'].unique()"
   ]
  },
  {
   "cell_type": "code",
   "execution_count": null,
   "id": "8dc0bba2-f076-4be7-a997-9e5dcba0845a",
   "metadata": {},
   "outputs": [
    {
     "data": {
      "text/plain": [
       "5"
      ]
     },
     "execution_count": 67,
     "metadata": {},
     "output_type": "execute_result"
    }
   ],
   "source": [
    "data['cut'].nunique()"
   ]
  },
  {
   "cell_type": "code",
   "execution_count": null,
   "id": "8e9ba9ff-540a-4020-8e54-321e33464cce",
   "metadata": {},
   "outputs": [],
   "source": []
  }
 ],
 "metadata": {
  "kernelspec": {
   "display_name": "Python 3 (ipykernel)",
   "language": "python",
   "name": "python3"
  },
  "language_info": {
   "codemirror_mode": {
    "name": "ipython",
    "version": 3
   },
   "file_extension": ".py",
   "mimetype": "text/x-python",
   "name": "python",
   "nbconvert_exporter": "python",
   "pygments_lexer": "ipython3",
   "version": "3.12.4"
  }
 },
 "nbformat": 4,
 "nbformat_minor": 5
}
